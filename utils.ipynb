{
  "nbformat": 4,
  "nbformat_minor": 0,
  "metadata": {
    "colab": {
      "name": "utils.ipynb",
      "provenance": [],
      "collapsed_sections": [],
      "authorship_tag": "ABX9TyP1UJqOzRzJ5ksJ+1ShjXV/"
    },
    "kernelspec": {
      "name": "python3",
      "display_name": "Python 3"
    }
  },
  "cells": [
    {
      "cell_type": "code",
      "metadata": {
        "id": "6eviqf9weanl",
        "colab_type": "code",
        "outputId": "2b566e75-00f6-4e65-f6e2-e4c3c6619912",
        "colab": {
          "base_uri": "https://localhost:8080/",
          "height": 84
        }
      },
      "source": [
        "!pip install piexif\n",
        "import os\n",
        "import random\n",
        "import shutil\n",
        "import piexif"
      ],
      "execution_count": 0,
      "outputs": [
        {
          "output_type": "stream",
          "text": [
            "Collecting piexif\n",
            "  Downloading https://files.pythonhosted.org/packages/2c/d8/6f63147dd73373d051c5eb049ecd841207f898f50a5a1d4378594178f6cf/piexif-1.1.3-py2.py3-none-any.whl\n",
            "Installing collected packages: piexif\n",
            "Successfully installed piexif-1.1.3\n"
          ],
          "name": "stdout"
        }
      ]
    },
    {
      "cell_type": "code",
      "metadata": {
        "id": "1ZMNbyfGbjk-",
        "colab_type": "code",
        "colab": {}
      },
      "source": [
        "def train_test_split(src_folder, train_size = 0.8):\n",
        "\t# Make sure we remove any existing folders and start from a clean slate\n",
        "\tshutil.rmtree(src_folder+'Train/Cat/', ignore_errors=True)\n",
        "\tshutil.rmtree(src_folder+'Train/Dog/', ignore_errors=True)\n",
        "\tshutil.rmtree(src_folder+'Test/Cat/', ignore_errors=True)\n",
        "\tshutil.rmtree(src_folder+'Test/Dog/', ignore_errors=True)\n",
        "\n",
        "\t# Now, create new empty train and test folders\n",
        "\tos.makedirs(src_folder+'Train/Cat/')\n",
        "\tos.makedirs(src_folder+'Train/Dog/')\n",
        "\tos.makedirs(src_folder+'Test/Cat/')\n",
        "\tos.makedirs(src_folder+'Test/Dog/')\n",
        "\n",
        "\t# Get the number of cats and dogs images\n",
        "\t_, _, cat_images = next(os.walk(src_folder+'Cat/'))\n",
        "\tfiles_to_be_removed = ['Thumbs.db', '666.jpg', '835.jpg']\n",
        "\tfor file in files_to_be_removed:\n",
        "\t\tcat_images.remove(file)\n",
        "\tnum_cat_images = len(cat_images)\n",
        "\tnum_cat_images_train = int(train_size * num_cat_images)\n",
        "\tnum_cat_images_test = num_cat_images - num_cat_images_train\n",
        "\n",
        "\t_, _, dog_images = next(os.walk(src_folder+'Dog/'))\n",
        "\tfiles_to_be_removed = ['Thumbs.db', '11702.jpg']\n",
        "\tfor file in files_to_be_removed:\n",
        "\t\tdog_images.remove(file)\n",
        "\tnum_dog_images = len(dog_images)\n",
        "\tnum_dog_images_train = int(train_size * num_dog_images)\n",
        "\tnum_dog_images_test = num_dog_images - num_dog_images_train\n",
        "\n",
        "\t# Randomly assign images to train and test\n",
        "\tcat_train_images = random.sample(cat_images, num_cat_images_train)\n",
        "\tfor img in cat_train_images:\n",
        "\t\tshutil.copy(src=src_folder+'Cat/'+img, dst=src_folder+'Train/Cat/')\n",
        "\tcat_test_images = [img for img in cat_images if img not in cat_train_images]\n",
        "\tfor img in cat_test_images:\n",
        "\t\tshutil.copy(src=src_folder+'Cat/'+img, dst=src_folder+'Test/Cat/')\n",
        "\n",
        "\tdog_train_images = random.sample(dog_images, num_dog_images_train)\n",
        "\tfor img in dog_train_images:\n",
        "\t\tshutil.copy(src=src_folder+'Dog/'+img, dst=src_folder+'Train/Dog/')\n",
        "\tdog_test_images = [img for img in dog_images if img not in dog_train_images]\n",
        "\tfor img in dog_test_images:\n",
        "\t\tshutil.copy(src=src_folder+'Dog/'+img, dst=src_folder+'Test/Dog/')\n",
        "\n",
        "\t# remove corrupted exif data from the dataset\n",
        "\tremove_exif_data(src_folder+'Train/')\n",
        "\tremove_exif_data(src_folder+'Test/')\n",
        "\n",
        "# helper function to remove corrupt exif data from Microsoft's dataset\n",
        "def remove_exif_data(src_folder):\n",
        "\t_, _, cat_images = next(os.walk(src_folder+'Cat/'))\n",
        "\tfor img in cat_images:\n",
        "\t\ttry:\n",
        "\t\t\tpiexif.remove(src_folder+'Cat/'+img)\n",
        "\t\texcept:\n",
        "\t\t\tpass\n",
        "\n",
        "\t_, _, dog_images = next(os.walk(src_folder+'Dog/'))\n",
        "\tfor img in dog_images:\n",
        "\t\ttry:\n",
        "\t\t\tpiexif.remove(src_folder+'Dog/'+img)\n",
        "\t\texcept:\n",
        "\t\t\tpass\n",
        "\n",
        "\n",
        "\n",
        "# src_folder = 'Dataset/PetImages/'\n",
        "# train_test_split(src_folder)"
      ],
      "execution_count": 0,
      "outputs": []
    },
    {
      "cell_type": "code",
      "metadata": {
        "id": "M5-edYBMbrk0",
        "colab_type": "code",
        "colab": {}
      },
      "source": [
        "def func():\n",
        "  x=1\n",
        "  print(x)"
      ],
      "execution_count": 0,
      "outputs": []
    },
    {
      "cell_type": "code",
      "metadata": {
        "id": "LnMj8oA8i0qS",
        "colab_type": "code",
        "colab": {}
      },
      "source": [
        ""
      ],
      "execution_count": 0,
      "outputs": []
    }
  ]
}